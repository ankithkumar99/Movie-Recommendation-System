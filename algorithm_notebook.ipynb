{
 "cells": [
  {
   "cell_type": "markdown",
   "metadata": {},
   "source": [
    "import required libraries"
   ]
  },
  {
   "cell_type": "code",
   "execution_count": 6,
   "metadata": {},
   "outputs": [],
   "source": [
    "import pandas as pd\n",
    "from sklearn.feature_extraction.text import CountVectorizer\n",
    "from sklearn.metrics.pairwise import cosine_similarity"
   ]
  },
  {
   "cell_type": "markdown",
   "metadata": {},
   "source": [
    "defining 2 functions:\n",
    "1. get title of the record by its id attribute\n",
    "2. get id of the record by its name attribute"
   ]
  },
  {
   "cell_type": "code",
   "execution_count": 7,
   "metadata": {},
   "outputs": [],
   "source": [
    "def get_title_from_id(id1):\n",
    "    return df[df.id == id1][\"title\"].values[0]\n",
    "\n",
    "def get_id_from_title(title):\n",
    "    return df[df.title == title][\"id\"].values[0]"
   ]
  },
  {
   "cell_type": "markdown",
   "metadata": {},
   "source": [
    "defining a function named combine_features.\n",
    "based on the features specified in this function, the output movies will be printed"
   ]
  },
  {
   "cell_type": "code",
   "execution_count": 8,
   "metadata": {},
   "outputs": [],
   "source": [
    "def combine_features(row):\n",
    "    try:\n",
    "        return row['title'] + \" \" + row['director'] + \" \" + row['lead_actors'] + \" \" + row['genre'] + \" \" + row['language'] + \" \" + row['country']\n",
    "    except:\n",
    "        print(\"Error:\", row)"
   ]
  },
  {
   "cell_type": "markdown",
   "metadata": {},
   "source": [
    "input the movie name \n",
    "<br>\n",
    "Note: movie name spelling should be same as in the imdb website"
   ]
  },
  {
   "cell_type": "code",
   "execution_count": 9,
   "metadata": {},
   "outputs": [
    {
     "name": "stdout",
     "output_type": "stream",
     "text": [
      "darbar\n"
     ]
    }
   ],
   "source": [
    "movie_user_likes = input().lower()"
   ]
  },
  {
   "cell_type": "markdown",
   "metadata": {},
   "source": [
    "now find the id of the movie name in our dataset that user provided\n",
    "<br>\n",
    "if the movie is present in our dataset, then store the record in the form of series (1-d array)"
   ]
  },
  {
   "cell_type": "code",
   "execution_count": 10,
   "metadata": {},
   "outputs": [],
   "source": [
    "output_list = []\n",
    "f = 0\n",
    "\n",
    "while f <= 16:\n",
    "    df = pd.read_csv(\"Dataset1/IMDb movies.csv\"+str(f)+\".csv\")\n",
    "    f += 1\n",
    "\n",
    "    try:\n",
    "        movie_id = get_id_from_title(movie_user_likes)\n",
    "        movie_record = df[df.id == movie_id].squeeze()\n",
    "        break\n",
    "    except IndexError:\n",
    "        continue"
   ]
  },
  {
   "cell_type": "markdown",
   "metadata": {},
   "source": [
    "after we retrive the record in the form of series\n",
    "<br>\n",
    "we apply cosine similarity algorithm with every record to get a value ranging in [0,1], or we can say this value as similarity score\n",
    "<br>\n",
    "higher the similarity score higher the record is similar with the input movie record"
   ]
  },
  {
   "cell_type": "code",
   "execution_count": 11,
   "metadata": {},
   "outputs": [],
   "source": [
    "f = 0\n",
    "while f <= 16:\n",
    "    df = pd.read_csv(\"Dataset1/IMDb movies.csv\" + str(f) + \".csv\")\n",
    "    f += 1\n",
    "    first_id = df['id'][0]\n",
    "    rows = df.count()['id']\n",
    "\n",
    "    if f == 17:\n",
    "        movie_record['id'] = 1279\n",
    "    else:\n",
    "        movie_record['id'] = 5000\n",
    "    df = df.append(movie_record)\n",
    "\n",
    "    movie_id = get_id_from_title(movie_user_likes)\n",
    "    features = ['title', 'director', 'lead_actors', 'genre', 'language', 'country']\n",
    "    for feature in features:\n",
    "        df[feature] = df[feature].fillna('')\n",
    "\n",
    "    df[\"combined_features\"] = df.apply(combine_features, axis=1)\n",
    "\n",
    "    cv = CountVectorizer()\n",
    "    count_matrix = cv.fit_transform(df[\"combined_features\"])\n",
    "    cosine_sim = cosine_similarity(count_matrix)\n",
    "\n",
    "\n",
    "    similar_movies = list(enumerate(cosine_sim[movie_id]))\n",
    "    sorted_similar_movies = sorted(similar_movies, key=lambda x: x[1], reverse=True)\n",
    "\n",
    "    list1 = []\n",
    "    list2 = output_list\n",
    "    for i in range(len(sorted_similar_movies)):\n",
    "        if i >= 12:\n",
    "            break\n",
    "        list1.append(list(sorted_similar_movies[i]))\n",
    "        list1[i][0] = get_title_from_id(list1[i][0])\n",
    "    list2 = list2 + list1\n",
    "    output_list = sorted(list2, key=lambda x: x[1], reverse=True)\n"
   ]
  },
  {
   "cell_type": "markdown",
   "metadata": {},
   "source": [
    "print the first 10 movies that we sorted in descending order\n",
    "<br>\n",
    "(if we sort in descending order we get high similarity score movie name in top)"
   ]
  },
  {
   "cell_type": "code",
   "execution_count": 12,
   "metadata": {},
   "outputs": [
    {
     "name": "stdout",
     "output_type": "stream",
     "text": [
      "petta\n",
      "lingaa\n",
      "muthu\n",
      "kaala\n",
      "annamalai\n",
      "netri kann\n",
      "padikkathavan\n",
      "murattu kaalai\n",
      "dharmathin thalaivan\n",
      "arunachalam\n"
     ]
    }
   ],
   "source": [
    "count = 0\n",
    "for elements in output_list:\n",
    "    if elements[0] == movie_user_likes:\n",
    "        continue\n",
    "    print(elements[0])\n",
    "    count += 1\n",
    "    if count == 10:\n",
    "        break"
   ]
  }
 ],
 "metadata": {
  "kernelspec": {
   "display_name": "Python 3",
   "language": "python",
   "name": "python3"
  },
  "language_info": {
   "codemirror_mode": {
    "name": "ipython",
    "version": 3
   },
   "file_extension": ".py",
   "mimetype": "text/x-python",
   "name": "python",
   "nbconvert_exporter": "python",
   "pygments_lexer": "ipython3",
   "version": "3.7.3"
  }
 },
 "nbformat": 4,
 "nbformat_minor": 2
}
